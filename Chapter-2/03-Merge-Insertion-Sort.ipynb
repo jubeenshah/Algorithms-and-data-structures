{
 "cells": [
  {
   "cell_type": "markdown",
   "metadata": {},
   "source": [
    "# Combining Merge Sort and Insertion Sort"
   ]
  },
  {
   "cell_type": "code",
   "execution_count": 52,
   "metadata": {},
   "outputs": [
    {
     "name": "stdout",
     "output_type": "stream",
     "text": [
      "Unsorted Array:  [0] 1\n",
      "Chosen Algorithm: Merge Sort\n",
      "Sorted Array:  [0]\n"
     ]
    }
   ],
   "source": [
    "import random\n",
    "\n",
    "#array = [random.randint(0,100) for i in range(random.randint(5,100))]\n",
    "array = [0]\n",
    "print(\"Unsorted Array: \", array, len(array))\n",
    "\n",
    "threshold = 0\n",
    "def insertionSort(array):\n",
    "    for j in range(1, len(array)):\n",
    "        key = array[j]\n",
    "        i = j - 1\n",
    "        while i >= 0 and array[i] > key:\n",
    "            array[i+1] = array[i]\n",
    "            i = i -1\n",
    "        array[i+1] = key\n",
    "            \n",
    "    return array\n",
    "        \n",
    "def mergeSort(array):\n",
    "    \n",
    "    if len(array) > 1:\n",
    "        mid = len(array) // 2\n",
    "        left = array[:mid]\n",
    "        right = array[mid:]\n",
    "        \n",
    "        mergeSort(left)\n",
    "        mergeSort(right)\n",
    "        \n",
    "        i = j = k = 0\n",
    "        \n",
    "        while i < len(left) and j <len(right):\n",
    "            if left[i] < right[j]:\n",
    "                array[k] = left[i]\n",
    "                i = i + 1\n",
    "            else:\n",
    "                array[k] = right[j]\n",
    "                j = j + 1\n",
    "            k = k + 1\n",
    "            \n",
    "        while i < len(left):\n",
    "            array[k] = left[i]\n",
    "            i = i + 1\n",
    "            k = k + 1\n",
    "            \n",
    "        while j <len(right):\n",
    "            array[k] = right[j]\n",
    "            j = j + 1\n",
    "            k = k + 1\n",
    "            \n",
    "    return array\n",
    "    \n",
    "def ChooseInsertionMergeSort(array):\n",
    "    if len(array) <= threshold:\n",
    "        print(\"Chosen Algorithm: Insertion Sort\")\n",
    "        print(\"Sorted Array: \", insertionSort(array))\n",
    "    else:\n",
    "        print(\"Chosen Algorithm: Merge Sort\")\n",
    "        print(\"Sorted Array: \", mergeSort(array))\n",
    "\n",
    "ChooseInsertionMergeSort(array)"
   ]
  },
  {
   "cell_type": "code",
   "execution_count": null,
   "metadata": {},
   "outputs": [],
   "source": []
  },
  {
   "cell_type": "code",
   "execution_count": 49,
   "metadata": {},
   "outputs": [],
   "source": []
  },
  {
   "cell_type": "code",
   "execution_count": null,
   "metadata": {},
   "outputs": [],
   "source": []
  }
 ],
 "metadata": {
  "kernelspec": {
   "display_name": "Python 3",
   "language": "python",
   "name": "python3"
  },
  "language_info": {
   "codemirror_mode": {
    "name": "ipython",
    "version": 3
   },
   "file_extension": ".py",
   "mimetype": "text/x-python",
   "name": "python",
   "nbconvert_exporter": "python",
   "pygments_lexer": "ipython3",
   "version": "3.6.5"
  }
 },
 "nbformat": 4,
 "nbformat_minor": 2
}
