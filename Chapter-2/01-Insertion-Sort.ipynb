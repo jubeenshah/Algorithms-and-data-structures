{
 "cells": [
  {
   "cell_type": "markdown",
   "metadata": {},
   "source": [
    "# Insertion Sort\n",
    "\n",
    "Pseudo-code\n",
    "\n",
    "```\n",
    "\n",
    "INSERTION-SORT(A)\n",
    "1 for j = 2 to A.length:\n",
    "2     key=A[j]􏰀\n",
    "3     // Insert A[j] 􏰀 into the sorted sequence A[1]..j-􏰐 1􏰀.\n",
    "4     i = j - 􏰐1\n",
    "5     while i >= 0 and A[i]􏰀>key:\n",
    "6           A[i + 1]􏰀 = A[i􏰀]\n",
    "7           i = i - 􏰐1\n",
    "8     A[i + 1] = key\n",
    "```"
   ]
  },
  {
   "cell_type": "code",
   "execution_count": 55,
   "metadata": {},
   "outputs": [
    {
     "name": "stdout",
     "output_type": "stream",
     "text": [
      "Unsorted Array:  [10, 9, 8, 7, 6, 5, 4, 3, 2, 1]\n",
      "\t\tKey: 9 [9, 10, 8, 7, 6, 5, 4, 3, 2, 1]\n",
      "\n",
      "\n",
      "\t\tKey: 8 [8, 9, 10, 7, 6, 5, 4, 3, 2, 1]\n",
      "\n",
      "\n",
      "\t\tKey: 7 [7, 8, 9, 10, 6, 5, 4, 3, 2, 1]\n",
      "\n",
      "\n",
      "\t\tKey: 6 [6, 7, 8, 9, 10, 5, 4, 3, 2, 1]\n",
      "\n",
      "\n",
      "\t\tKey: 5 [5, 6, 7, 8, 9, 10, 4, 3, 2, 1]\n",
      "\n",
      "\n",
      "\t\tKey: 4 [4, 5, 6, 7, 8, 9, 10, 3, 2, 1]\n",
      "\n",
      "\n",
      "\t\tKey: 3 [3, 4, 5, 6, 7, 8, 9, 10, 2, 1]\n",
      "\n",
      "\n",
      "\t\tKey: 2 [2, 3, 4, 5, 6, 7, 8, 9, 10, 1]\n",
      "\n",
      "\n",
      "\t\tKey: 1 [1, 2, 3, 4, 5, 6, 7, 8, 9, 10]\n",
      "\n",
      "\n",
      "Sorted Array:  [1, 2, 3, 4, 5, 6, 7, 8, 9, 10]\n"
     ]
    }
   ],
   "source": [
    "import random\n",
    "#A = [random.randint(1,100) for i in range(10)]\n",
    "A = [10,9,8,7,6,5,4,3,2,1]\n",
    "print(\"Unsorted Array: \", A)\n",
    "for j in range(1, len(A)):\n",
    "    key = A[j]\n",
    "    i = j - 1\n",
    "    while i >= 0 and A[i] > key:\n",
    "        A[i+1] = A[i]\n",
    "        i = i - 1    \n",
    "    A[i+1] = key\n",
    "    print(\"\\t\\tKey:\", key, A)\n",
    "    print(\"\\n\")\n",
    "print(\"Sorted Array: \", A)"
   ]
  }
 ],
 "metadata": {
  "kernelspec": {
   "display_name": "Python 3",
   "language": "python",
   "name": "python3"
  },
  "language_info": {
   "codemirror_mode": {
    "name": "ipython",
    "version": 3
   },
   "file_extension": ".py",
   "mimetype": "text/x-python",
   "name": "python",
   "nbconvert_exporter": "python",
   "pygments_lexer": "ipython3",
   "version": "3.6.5"
  }
 },
 "nbformat": 4,
 "nbformat_minor": 2
}
