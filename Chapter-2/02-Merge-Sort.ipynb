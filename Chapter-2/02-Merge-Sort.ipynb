{
 "cells": [
  {
   "cell_type": "markdown",
   "metadata": {},
   "source": [
    "# Merge Sort\n",
    "\n",
    "Pseudo-code\n",
    "\n",
    "```\n",
    "Merge(A,p,q,r)\n",
    "01. n1 = q - p + 1\n",
    "02. n2 = r - q\n",
    "03. L = [1...n1 + 1] and R = [1...n2 + 1]\n",
    "04. for i = 1 to n1\n",
    "05.     L[i] = A[p + i - 1]\n",
    "06. for j = 1 to n2\n",
    "07.     R[i] = A[q + j]\n",
    "08. L[n1 + 1] = infinity\n",
    "09. R[n2 + 1] = infinity\n",
    "10. i = j = 1\n",
    "11. for k = p to r\n",
    "12.     if L[i] < R[i]\n",
    "13.        A[k] = L[i]\n",
    "14.        i = i + 1\n",
    "15.     else\n",
    "16.        A[k] = R[i]\n",
    "17.        j = j + 1\n",
    "```\n",
    "\n",
    "```\n",
    "MergeSort(A,p,r)\n",
    "01. if p < r\n",
    "02.    q = [p + r] / 2\n",
    "03.    MergeSort(A,p,q)\n",
    "04.    MergeSort(A,q+1,r)\n",
    "05.    Merge(A,p,q,r)\n",
    "```"
   ]
  },
  {
   "cell_type": "code",
   "execution_count": 20,
   "metadata": {},
   "outputs": [
    {
     "name": "stdout",
     "output_type": "stream",
     "text": [
      "[36, 41, 71, 1, 51, 23, 16, 79, 0, 96]\n",
      "[0, 1, 16, 23, 36, 41, 51, 71, 79, 96]\n"
     ]
    }
   ],
   "source": [
    "import random\n",
    "array = [random.randint(0,100) for i in range(10)]\n",
    "print(array)\n",
    "def MergeSort(array):\n",
    "    if len(array) > 1:\n",
    "        mid = len(array) // 2\n",
    "        Left = array[:mid]\n",
    "        Right = array[mid:]\n",
    "        #print(Left,Right)\n",
    "        MergeSort(Left)\n",
    "        MergeSort(Right)\n",
    "    \n",
    "        i = j = k = 0\n",
    "        while i < len(Left) and j < len(Right):\n",
    "            if Left[i] < Right[j]:\n",
    "                array[k] = Left[i]\n",
    "                i = i + 1\n",
    "            else:\n",
    "                array[k] = Right[j]\n",
    "                j = j + 1\n",
    "            k = k + 1\n",
    "        \n",
    "        while i < len(Left):\n",
    "            array[k] = Left[i]\n",
    "            i = i + 1\n",
    "            k = k + 1\n",
    "            \n",
    "        while j < len(Right):\n",
    "            array[k] = Right[j]\n",
    "            j = j + 1\n",
    "            k = k + 1\n",
    "MergeSort(array)\n",
    "print(array)"
   ]
  }
 ],
 "metadata": {
  "kernelspec": {
   "display_name": "Python 3",
   "language": "python",
   "name": "python3"
  },
  "language_info": {
   "codemirror_mode": {
    "name": "ipython",
    "version": 3
   },
   "file_extension": ".py",
   "mimetype": "text/x-python",
   "name": "python",
   "nbconvert_exporter": "python",
   "pygments_lexer": "ipython3",
   "version": "3.6.5"
  }
 },
 "nbformat": 4,
 "nbformat_minor": 2
}
